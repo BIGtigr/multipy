{
 "cells": [
  {
   "cell_type": "markdown",
   "metadata": {},
   "source": [
    "# A study of controlling the false discovery rate"
   ]
  },
  {
   "cell_type": "markdown",
   "metadata": {},
   "source": [
    "In this Jupyter notebook, we briefly study the analysis presented by Benjamini and Hochberg (1995) in their seminal paper on controlling the false discovery rate."
   ]
  },
  {
   "cell_type": "markdown",
   "metadata": {},
   "source": [
    "## Load and print the Neuhaus et al. p-values"
   ]
  },
  {
   "cell_type": "markdown",
   "metadata": {},
   "source": [
    "Here we first import the function _neuhaus_ from the module _data_, which can be used to return the p-values reported by Neuhaus and co-authors (1995). We then print the p-values with four decimal places using the new string formatting syntax (http://pyformat.info) and finally store them for further processing."
   ]
  },
  {
   "cell_type": "code",
   "execution_count": 12,
   "metadata": {},
   "outputs": [
    {
     "name": "stdout",
     "output_type": "stream",
     "text": [
      "['0.0001', '0.0004', '0.0019', '0.0095', '0.0201', '0.0278', '0.0298', '0.0344', '0.0459', '0.3240', '0.4262', '0.5719', '0.6528', '0.7590', '1.0000']\n",
      "Stored 'pvals' (ndarray)\n"
     ]
    }
   ],
   "source": [
    "from data import neuhaus\n",
    "pvals = neuhaus()\n",
    "print ['{:.4f}'.format(p) for p in pvals]\n",
    "%store pvals"
   ]
  },
  {
   "cell_type": "markdown",
   "metadata": {},
   "source": [
    "## Perform the classic Bonferroni correction"
   ]
  },
  {
   "cell_type": "markdown",
   "metadata": {},
   "source": [
    "Our dataset consists of p-values $p_{1}, \\dots, p_{15}$ corresponding to a family of hypotheses $H_{1}, \\dots, H_{15}$. Since there are $N=15$ hypotheses, the new critical level that takes multiple testing into account is $\\alpha_{\\text{Bonferroni}} = \\alpha/N = 0.05/15 = 0.00334$. This operation is readily performed by using the function _bonferroni_ from the module _fwer_."
   ]
  },
  {
   "cell_type": "code",
   "execution_count": 19,
   "metadata": {},
   "outputs": [
    {
     "name": "stdout",
     "output_type": "stream",
     "text": [
      "[('0.0001', True), ('0.0004', True), ('0.0019', True), ('0.0095', False), ('0.0201', False), ('0.0278', False), ('0.0298', False), ('0.0344', False), ('0.0459', False), ('0.3240', False), ('0.4262', False), ('0.5719', False), ('0.6528', False), ('0.7590', False), ('1.0000', False)]\n"
     ]
    }
   ],
   "source": [
    "%store -r pvals\n",
    "from fwer import bonferroni\n",
    "significant_pvals = bonferroni(pvals)\n",
    "print zip(['{:.4f}'.format(p) for p in pvals], significant_pvals)"
   ]
  },
  {
   "cell_type": "markdown",
   "metadata": {},
   "source": [
    "The first three p-values are significant after the correction since $0.0001 < 0.0004 < 0.0019 < \\alpha_{\\text{Bonferroni}} = 0.00334$."
   ]
  },
  {
   "cell_type": "markdown",
   "metadata": {},
   "source": [
    "## Perform the Benjamini & Hochberg FDR correction"
   ]
  },
  {
   "cell_type": "code",
   "execution_count": 3,
   "metadata": {},
   "outputs": [
    {
     "name": "stdout",
     "output_type": "stream",
     "text": [
      "[('0.0001', True), ('0.0004', True), ('0.0019', True), ('0.0095', True), ('0.0201', False), ('0.0278', False), ('0.0298', False), ('0.0344', False), ('0.0459', False), ('0.3240', False), ('0.4262', False), ('0.5719', False), ('0.6528', False), ('0.7590', False), ('1.0000', False)]\n"
     ]
    }
   ],
   "source": [
    "%store -r pvals\n",
    "from adaptive import lsu\n",
    "significant_pvals = lsu(pvals, q=0.05)\n",
    "print zip(['{:.4f}'.format(p) for p in pvals], significant_pvals)"
   ]
  },
  {
   "cell_type": "markdown",
   "metadata": {},
   "source": [
    "The first p-value is significant since $0.0001 < 1\\cdot \\frac{0.05}{15} = 0.00334$, the second is significant since $0.0004 < 2\\cdot\\frac{0.05}{15} = 0.00667$, the third is significant since $0.0019 < 3\\cdot\\frac{0.05}{15} = 0.01$, **and** the fourth is significant since $0.0095 < 4\\cdot\\frac{0.05}{15} = 0.01334$. The additional discovery is due to a smaller false-negative rate."
   ]
  }
 ],
 "metadata": {
  "kernelspec": {
   "display_name": "Python 2",
   "language": "python",
   "name": "python2"
  },
  "language_info": {
   "codemirror_mode": {
    "name": "ipython",
    "version": 2
   },
   "file_extension": ".py",
   "mimetype": "text/x-python",
   "name": "python",
   "nbconvert_exporter": "python",
   "pygments_lexer": "ipython2",
   "version": "2.7.13"
  }
 },
 "nbformat": 4,
 "nbformat_minor": 2
}
